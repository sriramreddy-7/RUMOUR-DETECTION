{
  "nbformat": 4,
  "nbformat_minor": 0,
  "metadata": {
    "colab": {
      "provenance": [],
      "gpuType": "V28",
      "mount_file_id": "1L56N14OahkkhVNerCkUm61Bc3Sv-71cG",
      "authorship_tag": "ABX9TyM371otqoQMGqhoH4vYLj7J",
      "include_colab_link": true
    },
    "kernelspec": {
      "name": "python3",
      "display_name": "Python 3"
    },
    "language_info": {
      "name": "python"
    },
    "accelerator": "TPU"
  },
  "cells": [
    {
      "cell_type": "markdown",
      "metadata": {
        "id": "view-in-github",
        "colab_type": "text"
      },
      "source": [
        "<a href=\"https://colab.research.google.com/github/sriramreddy-7/RUMOUR-DETECTION/blob/main/Rumour_Detection_weibio_16.ipynb\" target=\"_parent\"><img src=\"https://colab.research.google.com/assets/colab-badge.svg\" alt=\"Open In Colab\"/></a>"
      ]
    },
    {
      "cell_type": "code",
      "execution_count": 1,
      "metadata": {
        "id": "N9q0ZtFcAPzr",
        "colab": {
          "base_uri": "https://localhost:8080/"
        },
        "outputId": "00abdada-02f9-4e76-d137-374ef8816ffa"
      },
      "outputs": [
        {
          "output_type": "stream",
          "name": "stdout",
          "text": [
            "Drive already mounted at /content/drive; to attempt to forcibly remount, call drive.mount(\"/content/drive\", force_remount=True).\n"
          ]
        }
      ],
      "source": [
        "from google.colab import drive\n",
        "drive.mount('/content/drive')"
      ]
    },
    {
      "cell_type": "code",
      "source": [
        "import os\n",
        "import numpy as np\n",
        "from PIL import Image\n",
        "from tensorflow.keras.preprocessing.image import img_to_array, load_img"
      ],
      "metadata": {
        "id": "_t16e6SoH6n7"
      },
      "execution_count": 2,
      "outputs": []
    },
    {
      "cell_type": "code",
      "source": [
        "dataset_path = '/content/drive/MyDrive/[07] Datasets/ML/weibo_16/images'"
      ],
      "metadata": {
        "id": "Z7V_g35rB2Rw"
      },
      "execution_count": 3,
      "outputs": []
    },
    {
      "cell_type": "code",
      "source": [
        "from tensorflow.keras.preprocessing.image import ImageDataGenerator"
      ],
      "metadata": {
        "id": "iWunqy2zGX8Q"
      },
      "execution_count": 4,
      "outputs": []
    },
    {
      "cell_type": "code",
      "source": [
        "def load_images_from_folder(folder_path, img_height, img_width):\n",
        "    images = []\n",
        "    file_names = []\n",
        "    for filename in os.listdir(folder_path):\n",
        "        img_path = os.path.join(folder_path, filename)\n",
        "        img = load_img(img_path, target_size=(img_height, img_width))\n",
        "        img_array = img_to_array(img)\n",
        "        images.append(img_array)\n",
        "        file_names.append(filename)  # Optionally, save file names for reference\n",
        "    return np.array(images), file_names"
      ],
      "metadata": {
        "id": "MXf9Q5TsGazP"
      },
      "execution_count": 5,
      "outputs": []
    },
    {
      "cell_type": "code",
      "source": [
        "images_folder = os.path.join(dataset_path)"
      ],
      "metadata": {
        "id": "gNag9jNWGete"
      },
      "execution_count": 6,
      "outputs": []
    },
    {
      "cell_type": "code",
      "source": [
        "IMG_HEIGHT = 224\n",
        "IMG_WIDTH = 224"
      ],
      "metadata": {
        "id": "81mKhYXBGirR"
      },
      "execution_count": 7,
      "outputs": []
    },
    {
      "cell_type": "code",
      "source": [
        "image_data, image_filenames = load_images_from_folder(images_folder, IMG_HEIGHT, IMG_WIDTH)"
      ],
      "metadata": {
        "id": "X8i1hSg6IJbS"
      },
      "execution_count": 8,
      "outputs": []
    },
    {
      "cell_type": "code",
      "source": [
        "from tensorflow.keras.models import Sequential\n",
        "from tensorflow.keras.layers import Conv2D, MaxPooling2D, Flatten, Dense"
      ],
      "metadata": {
        "id": "ncFY6CHRILiW"
      },
      "execution_count": 9,
      "outputs": []
    },
    {
      "cell_type": "code",
      "source": [
        "model = Sequential([\n",
        "    Conv2D(32, (3, 3), activation='relu', input_shape=(IMG_HEIGHT, IMG_WIDTH, 3)),\n",
        "    MaxPooling2D((2, 2)),\n",
        "    Conv2D(64, (3, 3), activation='relu'),\n",
        "    MaxPooling2D((2, 2)),\n",
        "    Conv2D(128, (3, 3), activation='relu'),\n",
        "    MaxPooling2D((2, 2)),\n",
        "    Flatten(),\n",
        "    Dense(128, activation='relu'),\n",
        "    Dense(1, activation='sigmoid')\n",
        "])"
      ],
      "metadata": {
        "id": "3sMG4-lXIXNW"
      },
      "execution_count": 10,
      "outputs": []
    },
    {
      "cell_type": "code",
      "source": [
        "model.compile(optimizer='adam',\n",
        "              loss='binary_crossentropy',\n",
        "              metrics=['accuracy'])"
      ],
      "metadata": {
        "id": "6fj9bkwfIdH4"
      },
      "execution_count": 11,
      "outputs": []
    },
    {
      "cell_type": "code",
      "source": [
        "labels = np.random.randint(0, 2, size=len(image_data))"
      ],
      "metadata": {
        "id": "ib09Gd04Il5e"
      },
      "execution_count": 12,
      "outputs": []
    },
    {
      "cell_type": "code",
      "source": [
        "history = model.fit(image_data, labels, epochs=10, batch_size=32, validation_split=0.2)"
      ],
      "metadata": {
        "colab": {
          "base_uri": "https://localhost:8080/"
        },
        "id": "of-iIdLIIn2t",
        "outputId": "a18c5923-6c8d-4ceb-c6ea-155a96157bb9"
      },
      "execution_count": 13,
      "outputs": [
        {
          "output_type": "stream",
          "name": "stdout",
          "text": [
            "Epoch 1/10\n",
            "2/2 [==============================] - 2s 667ms/step - loss: 1160.7489 - accuracy: 0.4237 - val_loss: 932.0002 - val_accuracy: 0.4667\n",
            "Epoch 2/10\n",
            "2/2 [==============================] - 1s 468ms/step - loss: 279.6826 - accuracy: 0.5593 - val_loss: 103.5313 - val_accuracy: 0.5333\n",
            "Epoch 3/10\n",
            "2/2 [==============================] - 1s 442ms/step - loss: 91.5686 - accuracy: 0.4407 - val_loss: 3.1723 - val_accuracy: 0.4000\n",
            "Epoch 4/10\n",
            "2/2 [==============================] - 1s 481ms/step - loss: 3.7479 - accuracy: 0.6610 - val_loss: 3.1256 - val_accuracy: 0.4667\n",
            "Epoch 5/10\n",
            "2/2 [==============================] - 1s 456ms/step - loss: 1.1446 - accuracy: 0.6271 - val_loss: 1.0958 - val_accuracy: 0.4667\n",
            "Epoch 6/10\n",
            "2/2 [==============================] - 1s 450ms/step - loss: 1.0700 - accuracy: 0.5763 - val_loss: 2.0269 - val_accuracy: 0.4667\n",
            "Epoch 7/10\n",
            "2/2 [==============================] - 1s 463ms/step - loss: 0.5214 - accuracy: 0.7288 - val_loss: 1.0748 - val_accuracy: 0.3333\n",
            "Epoch 8/10\n",
            "2/2 [==============================] - 1s 461ms/step - loss: 0.3228 - accuracy: 0.9492 - val_loss: 1.3486 - val_accuracy: 0.2667\n",
            "Epoch 9/10\n",
            "2/2 [==============================] - 1s 457ms/step - loss: 0.4294 - accuracy: 0.8475 - val_loss: 1.5197 - val_accuracy: 0.4667\n",
            "Epoch 10/10\n",
            "2/2 [==============================] - 1s 462ms/step - loss: 0.6424 - accuracy: 0.8305 - val_loss: 1.7300 - val_accuracy: 0.5333\n"
          ]
        }
      ]
    },
    {
      "cell_type": "code",
      "source": [
        "loss, accuracy = model.evaluate(image_data, labels)\n",
        "print(f'Test accuracy: {accuracy}')"
      ],
      "metadata": {
        "colab": {
          "base_uri": "https://localhost:8080/"
        },
        "id": "8syAUfW9IqCZ",
        "outputId": "4fbae515-1492-4998-8199-5d6c96179d9d"
      },
      "execution_count": 14,
      "outputs": [
        {
          "output_type": "stream",
          "name": "stdout",
          "text": [
            "3/3 [==============================] - 0s 55ms/step - loss: 0.4285 - accuracy: 0.8784\n",
            "Test accuracy: 0.8783783912658691\n"
          ]
        }
      ]
    },
    {
      "cell_type": "code",
      "source": [
        "from sklearn.metrics import classification_report, accuracy_score"
      ],
      "metadata": {
        "id": "csz_HAumJsIt"
      },
      "execution_count": 16,
      "outputs": []
    },
    {
      "cell_type": "code",
      "source": [
        "predictions = model.predict(image_data)\n",
        "predicted_labels = (predictions > 0.5).astype(int)\n",
        "true_labels = labels\n",
        "\n",
        "accuracy = accuracy_score(true_labels, predicted_labels)\n",
        "\n",
        "\n",
        "class_names = ['Non-rumour', 'Rumour']\n",
        "report = classification_report(true_labels, predicted_labels, target_names=class_names)\n",
        "\n",
        "\n",
        "print(f'Test Accuracy: {accuracy:.4f}\\n')\n",
        "print('Classification Report:')\n",
        "print(report)\n"
      ],
      "metadata": {
        "colab": {
          "base_uri": "https://localhost:8080/"
        },
        "id": "6i89dWc-JNcu",
        "outputId": "c0b94316-59d5-42a6-c892-5124e0ded589"
      },
      "execution_count": 17,
      "outputs": [
        {
          "output_type": "stream",
          "name": "stdout",
          "text": [
            "3/3 [==============================] - 0s 55ms/step\n",
            "Test Accuracy: 0.8784\n",
            "\n",
            "Classification Report:\n",
            "              precision    recall  f1-score   support\n",
            "\n",
            "  Non-rumour       0.96      0.76      0.85        34\n",
            "      Rumour       0.83      0.97      0.90        40\n",
            "\n",
            "    accuracy                           0.88        74\n",
            "   macro avg       0.90      0.87      0.87        74\n",
            "weighted avg       0.89      0.88      0.88        74\n",
            "\n"
          ]
        }
      ]
    },
    {
      "cell_type": "code",
      "source": [],
      "metadata": {
        "id": "2eyVo3kOJzZY"
      },
      "execution_count": null,
      "outputs": []
    }
  ]
}